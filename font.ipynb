{
 "cells": [
  {
   "cell_type": "code",
   "execution_count": 1,
   "metadata": {},
   "outputs": [],
   "source": [
    "from PIL import Image, ImageDraw, ImageFont\n",
    "from config import Config\n",
    "\n",
    "# Define text and font\n",
    "def render_text(text: str,\n",
    "                font_path: str = Config.font_path,\n",
    "                font_size: int = Config.font_size,\n",
    "                img_size: tuple[int, int] = Config.char_img_size,\n",
    "                background: tuple[int, int, int] = (255, 255, 255)\n",
    "                ):\n",
    "    height, width = img_size\n",
    "    # Create a white image\n",
    "    image = Image.new(\"RGB\", (width, height), background)  # Replace width and height with desired values\n",
    "\n",
    "    # Create a drawing object\n",
    "    draw = ImageDraw.Draw(image)\n",
    "\n",
    "\n",
    "    # Draw the text on the image\n",
    "    font = ImageFont.truetype(font_path, font_size)\n",
    "    bbox = draw.textbbox((0, 0), text, font=font)\n",
    "    x,y,w,h = bbox\n",
    "    X = (width - w)/2\n",
    "    Y = (height - h)/2\n",
    "    # draw.rectangle(bbox, outline='red')\n",
    "\n",
    "    # Define text position (adjust as needed)\n",
    "    text_position = (X, Y)\n",
    "    draw.text(text_position, text, fill=\"black\", font=font)\n",
    "    return image"
   ]
  },
  {
   "cell_type": "code",
   "execution_count": 8,
   "metadata": {},
   "outputs": [
    {
     "data": {
      "image/jpeg": "[encoded data removed]",
      "image/png": "[encoded data removed]",
      "text/plain": [
       "<PIL.Image.Image image mode=RGB size=16x16>"
      ]
     },
     "execution_count": 8,
     "metadata": {},
     "output_type": "execute_result"
    }
   ],
   "source": [
    "render_text('g')"
   ]
  }
 ],
 "metadata": {
  "kernelspec": {
   "display_name": "fastrun",
   "language": "python",
   "name": "python3"
  },
  "language_info": {
   "codemirror_mode": {
    "name": "ipython",
    "version": 3
   },
   "file_extension": ".py",
   "mimetype": "text/x-python",
   "name": "python",
   "nbconvert_exporter": "python",
   "pygments_lexer": "ipython3",
   "version": "3.9.0"
  }
 },
 "nbformat": 4,
 "nbformat_minor": 2
}
